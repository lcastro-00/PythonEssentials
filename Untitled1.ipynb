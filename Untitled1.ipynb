{
 "cells": [
  {
   "cell_type": "markdown",
   "id": "26be20c1",
   "metadata": {},
   "source": [
    "## Empezando a trabajar con Python\n",
    "### Realizado por: Castro Leonardo"
   ]
  },
  {
   "cell_type": "markdown",
   "id": "ad2451ab",
   "metadata": {},
   "source": [
    "### Consultando los tipos de valores:"
   ]
  },
  {
   "cell_type": "markdown",
   "id": "6fc68bed",
   "metadata": {},
   "source": [
    "#### El tipo de dato de 875 es:"
   ]
  },
  {
   "cell_type": "code",
   "execution_count": 19,
   "id": "70059cb4",
   "metadata": {},
   "outputs": [
    {
     "name": "stdout",
     "output_type": "stream",
     "text": [
      "<class 'int'>\n"
     ]
    }
   ],
   "source": [
    "# Se utilizada la funcion nativa de Python 'type' que devuelve la class a la que pertenece el dato.\n",
    "# La funcion nativa 'print' nos permite visualizar el resultado a traves de la salida estandar.\n",
    "print(type(875))"
   ]
  },
  {
   "cell_type": "markdown",
   "id": "83c445a1",
   "metadata": {},
   "source": [
    "#### El tipo de dato de 4.89 es:"
   ]
  },
  {
   "cell_type": "code",
   "execution_count": 20,
   "id": "298269e6",
   "metadata": {},
   "outputs": [
    {
     "name": "stdout",
     "output_type": "stream",
     "text": [
      "<class 'float'>\n"
     ]
    }
   ],
   "source": [
    "# Se utilizada la funcion nativa de Python 'type' que devuelve la class a la que pertenece el dato.\n",
    "# La funcion nativa 'print' nos permite visualizar el resultado a traves de la salida estandar.\n",
    "print(type(4.89))"
   ]
  },
  {
   "cell_type": "markdown",
   "id": "b215baef",
   "metadata": {},
   "source": [
    "#### El tipo de dato del texto: Now is better than never. es:"
   ]
  },
  {
   "cell_type": "code",
   "execution_count": 21,
   "id": "53c8dcba",
   "metadata": {},
   "outputs": [
    {
     "name": "stdout",
     "output_type": "stream",
     "text": [
      "<class 'str'>\n"
     ]
    }
   ],
   "source": [
    "# Se utilizada la funcion nativa de Python 'type' que devuelve la class a la que pertenece el dato.\n",
    "# La funcion nativa 'print' nos permite visualizar el resultado a traves de la salida estandar.\n",
    "print(type(\"Now is better than never.\"))"
   ]
  },
  {
   "cell_type": "markdown",
   "id": "972daf5e",
   "metadata": {},
   "source": [
    "#### El tipo de dato de 1.32 es:"
   ]
  },
  {
   "cell_type": "code",
   "execution_count": 22,
   "id": "e4491a02",
   "metadata": {},
   "outputs": [
    {
     "name": "stdout",
     "output_type": "stream",
     "text": [
      "<class 'float'>\n"
     ]
    }
   ],
   "source": [
    "# Se utilizada la funcion nativa de Python 'type' que devuelve la class a la que pertenece el dato.\n",
    "# La funcion nativa 'print' nos permite visualizar el resultado a traves de la salida estandar.\n",
    "print(type(1.32))"
   ]
  },
  {
   "cell_type": "markdown",
   "id": "aaf93046",
   "metadata": {},
   "source": [
    "#### ¿El valor 5 + 8i corresponde a un valor entero?"
   ]
  },
  {
   "cell_type": "code",
   "execution_count": 23,
   "id": "c412d8a4",
   "metadata": {},
   "outputs": [
    {
     "name": "stdout",
     "output_type": "stream",
     "text": [
      "False\n"
     ]
    }
   ],
   "source": [
    "# Se utilizada la funcion nativa de Python 'isinstance' que permite realizar la comparación de valor solicitada.\n",
    "# La funcion nativa 'print' nos permite visualizar el resultado a traves de la salida estandar.\n",
    "print(isinstance(5 + 8j, int))"
   ]
  },
  {
   "cell_type": "markdown",
   "id": "5918e405",
   "metadata": {},
   "source": [
    "#### ¿El valor 8.2 corresponde a un valor entero?"
   ]
  },
  {
   "cell_type": "code",
   "execution_count": 24,
   "id": "47dabb09",
   "metadata": {},
   "outputs": [
    {
     "name": "stdout",
     "output_type": "stream",
     "text": [
      "False\n"
     ]
    }
   ],
   "source": [
    "# Se utilizada la funcion nativa de Python 'isinstance' que permite realizar la comparación de valor solicitada.\n",
    "# La funcion nativa 'print' nos permite visualizar el resultado a traves de la salida estandar.\n",
    "print(isinstance(8.2, int))"
   ]
  },
  {
   "cell_type": "markdown",
   "id": "ad426dee",
   "metadata": {},
   "source": [
    "#### ¿El texto: Readability counts. corresponde a un string?"
   ]
  },
  {
   "cell_type": "code",
   "execution_count": 25,
   "id": "69f4cf5c",
   "metadata": {},
   "outputs": [
    {
     "name": "stdout",
     "output_type": "stream",
     "text": [
      "True\n"
     ]
    }
   ],
   "source": [
    "# Se utilizada la funcion nativa de Python 'isinstance' que permite realizar la comparación de valor solicitada.\n",
    "# La funcion nativa 'print' nos permite visualizar el resultado a traves de la salida estandar.\n",
    "print(isinstance(\"Readability counts.\", str))"
   ]
  }
 ],
 "metadata": {
  "kernelspec": {
   "display_name": "Python 3",
   "language": "python",
   "name": "python3"
  },
  "language_info": {
   "codemirror_mode": {
    "name": "ipython",
    "version": 3
   },
   "file_extension": ".py",
   "mimetype": "text/x-python",
   "name": "python",
   "nbconvert_exporter": "python",
   "pygments_lexer": "ipython3",
   "version": "3.8.8"
  }
 },
 "nbformat": 4,
 "nbformat_minor": 5
}
